{
 "cells": [
  {
   "cell_type": "code",
   "execution_count": null,
   "metadata": {},
   "outputs": [],
   "source": [
    "import numpy as np # linear algebra\n",
    "import pandas as pd # data processing, CSV file I/O (e.g. pd.read_csv)\n",
    "\n",
    "import os\n",
    "for dirname, _, filenames in os.walk('archive'):\n",
    "    for filename in filenames:\n",
    "        print(os.path.join(dirname, filename))"
   ]
  },
  {
   "cell_type": "code",
   "execution_count": null,
   "metadata": {},
   "outputs": [],
   "source": [
    "df = pd.read_csv('archive/contract-records.csv')\n",
    "df.head ()"
   ]
  },
  {
   "cell_type": "markdown",
   "metadata": {},
   "source": [
    "# Configure LLM To Use WIth python"
   ]
  },
  {
   "cell_type": "code",
   "execution_count": null,
   "metadata": {},
   "outputs": [],
   "source": [
    "from openai import OpenAI\n",
    "\n",
    "client = OpenAI(\n",
    "  api_key=\"add your openAI API\",\n",
    " )\n"
   ]
  },
  {
   "cell_type": "code",
   "execution_count": null,
   "metadata": {},
   "outputs": [],
   "source": [
    "completion = client.chat.completions.create(\n",
    "  model=\"gpt-3.5-turbo\",\n",
    "  messages=[\n",
    "    {\"role\": \"system\", \"content\": \"Eres un mentor de habilidades blandas que provee herramientas practicas para la vida diaria.\"},\n",
    "    {\"role\": \"user\", \"content\": \"No sé cómo mejorar mi comunicación con mi jefe. ¿Qué puedo hacer?\"}\n",
    "  ]\n",
    ")\n",
    "\n",
    "print(completion.choices[0].message)"
   ]
  },
  {
   "cell_type": "markdown",
   "metadata": {},
   "source": [
    "### Configure OpeanAi & Llama-2 LLMs"
   ]
  },
  {
   "cell_type": "code",
   "execution_count": null,
   "metadata": {},
   "outputs": [],
   "source": [
    "import ollama\n"
   ]
  },
  {
   "cell_type": "code",
   "execution_count": null,
   "metadata": {},
   "outputs": [],
   "source": [
    "\"\"\"response = ollama.chat(model='llama3', messages=[\n",
    "  {\n",
    "    'role': 'user',\n",
    "    'content': 'Why is the sky blue?',\n",
    "  },\n",
    "])\n",
    "print(response['message']['content'])\n",
    "\"\"\""
   ]
  },
  {
   "cell_type": "markdown",
   "metadata": {},
   "source": [
    "## Task 1: Use LLM To Parse Simple Sentence Examples"
   ]
  },
  {
   "cell_type": "code",
   "execution_count": null,
   "metadata": {},
   "outputs": [],
   "source": [
    "inputs = [\n",
    "    \"John James agrees to pay $50/month to RJ Hampshire for work on the Farm\",\n",
    "    \"Elizabeth James will pay $30 per month to Levi Rodgers for Gardening\",\n",
    "    \"Johnson Ollaman will pay $1.25 per day to both John Smith and Jane Smith for teaching the children of the community\",\n",
    "    \"Claire Daniels charges $50 weekly to local community members for cooking classes, emphasizing the joy of healthy eating.\",\n",
    "    \"Marcus Wellby commits to donating $500 annually to the Green Earth Foundation for environmental conservation efforts.\",\n",
    "    \"Dr. Helena Russell charges $100 per hour for providing guidance and support to medical students, aiming to enhance their clinical skills and knowledge.\",\n",
    "    \"Keith Galli charges $0 to watch his YouTube content; the least you could do is smash that like button and subscribe, hehehe xD\",\n",
    "    \"The local sports club agrees to pay $75 each to coaches Sarah Miller, Danny Glover, Alex Reed, and Jamie Fox for conducting a weekend sports clinic.\",\n",
    "    \"\"\"This Agreement made this 14th day of August A.D. 1865, by and between F.R.J. Terry of the county of Copiah and State of Mississippi of the first part, and the person hereinafter named and undersigned, Freedmen of the second part [[?]] That for the purpose of working in the [[?]] known as Beagley's [[?]] Yard in the county aforesaid for two months commencing on the 14th day of August 1865 and terminating on the 14th day of October 1865. The said F.R.J. Terry party of the first part, in consideration of the [[?]] and conditions hereinafter mentioned on the part of the party of the second part agrees to pay said laborer \"10\" ten dollars per month and furnish free of charge clothing and good of good quality and sufficient quantity, good and sufficient quarters, and kind and humane treatment. And it is further agreed that in case the said F.R.J. Terry shall fail, neglect, or refuse to fulfill any of the obligations assumed by him, he shall besides the legal recourse left to the party aggrieved render this contract liable to amendment by the Provost Marshal of Freedmen. And it is agreed on the part of the party of second part that he will well and faithfully perform such labor as the said F.R.J. Terry may require of him for the time aforesaid, nor exceeding ten hours per day in summer and nine hours in winter. And in case the said laborer shall absent himself from or refuse to perform the labor herein promised, he shall loose the time and be punished as such manner as the Provost Marshal shall deem propper.\"\"\",\n",
    "]\n",
    "\n",
    "outputs = [\n",
    "    [{\"payer\": \"John James\", \"recipient\": \"RJ Hampshire\", \"amount\": 50, \"pay frequency\": \"monthly\", \"description\": \"farming\"}],\n",
    "    [{\"payer\": \"Elizabeth James\", \"recipient\": \"Levi Rodgers\", \"amount\": 30, \"pay frequency\": \"monthly\", \"description\": \"gardening\"}],\n",
    "    [{\"payer\": \"Johnson Ollaman\", \"recipient\": \"John Smith\", \"amount\": 1.25, \"pay frequency\": \"daily\", \"description\": \"teaching the children of the community\"}, {\"payer\": \"Johnson Ollaman\", \"recipient\": \"Jane Smith\", \"amount\": 1.25, \"pay frequency\": \"daily\", \"description\": \"teaching the children of the community\"}],\n",
    "    [{\"payer\": \"Claire Daniels\", \"recipient\": \"Local community members\", \"amount\": 50, \"pay frequency\": \"weekly\", \"description\": \"cooking classes\"}],\n",
    "    [{\"payer\": \"Marcus Wellby\", \"recipient\": \"Green Earth Foundation\", \"amount\": 500, \"pay frequency\": \"yearly\", \"description\": \"donation for environmental conservation\"}],\n",
    "    [{\"payer\": \"Dr. Helena Russell\", \"recipient\": \"Medical students\", \"amount\": 100, \"pay frequency\": \"hourly\", \"description\": \"mentorship and clinical skill enhancement\"}],\n",
    "    [{\"payer\": None, \"recipient\": \"Keith Galli\", \"amount\": 0, \"pay frequency\": None, \"description\": \"YouTube content\"}],\n",
    "    [{\"payer\": \"The local sports club\", \"recipient\": \"Sarah Miller\", \"amount\": 75, \"pay frequency\": \"one-time\", \"description\": \"weekend sports clinic\"},\n",
    "     {\"payer\": \"The local sports club\", \"recipient\": \"Danny Glover\", \"amount\": 75, \"pay frequency\": \"one-time\", \"description\": \"weekend sports clinic\"},\n",
    "     {\"payer\": \"The local sports club\", \"recipient\": \"Alex Reed\", \"amount\": 75, \"pay frequency\": \"one-time\", \"description\": \"weekend sports clinic\"},\n",
    "     {\"payer\": \"The local sports club\", \"recipient\": \"Jamie Fox\", \"amount\": 75, \"pay frequency\": \"one-time\", \"description\": \"weekend sports clinic\"}],\n",
    "    [{\"payer\": \"F.R.J. Terry\", \"payee\": \"Freedmen\", \"amount\":10, \"pay frequency\": \"monthly\", \"description\": \"working in the yard\"}],\n",
    "]"
   ]
  },
  {
   "cell_type": "code",
   "execution_count": null,
   "metadata": {},
   "outputs": [],
   "source": [
    "system_message = \"\"\"Grab the payer recipient amount, pay frequency, and description from any sentence you are given\n",
    "\n",
    "output the following JSON object\n",
    "{{\n",
    "\"payer\": \"<payer>\",\n",
    "\"recipient\": \"<recipient>\",\n",
    "\"amount\": <amount in USD>,\n",
    "\"pay frequency\": \"<pay frequency>\", # daily, weekly, monthly, yearly, one-time\n",
    "\"description\": \"<description>\"\n",
    "}}\n",
    "for each person that is paid in the example. If there are multiple people paid, output a separate JSON object for each person.\n",
    "\"\"\"\n",
    "\n",
    "parsed_output = client.chat.completions.create(\n",
    "  model=\"gpt-3.5-turbo\",\n",
    "  messages=[\n",
    "    {\"role\": \"system\", \"content\": system_message},\n",
    "    {\"role\": \"user\", \"content\": inputs[0]},\n",
    "    {\"role\": \"assistant\", \"content\": str(outputs[0])},\n",
    "    {\"role\": \"user\", \"content\": \"Johnson Ollaman will pay $1.25 per day to both John Smith and Jane Smith for teaching the children of the community\"}\n",
    "  ]\n",
    ")\n"
   ]
  },
  {
   "cell_type": "code",
   "execution_count": null,
   "metadata": {},
   "outputs": [],
   "source": [
    "# PARSE THE OUTPUT INTO A DICTIONARY\n",
    "import ast\n",
    "\n",
    "actual_output = ast.literal_eval(parsed_output.choices[0].message.content)\n",
    "excepted_output = outputs[2]"
   ]
  },
  {
   "cell_type": "code",
   "execution_count": null,
   "metadata": {},
   "outputs": [],
   "source": [
    "print(actual_output)\n",
    "print()\n",
    "print(excepted_output)"
   ]
  },
  {
   "cell_type": "markdown",
   "metadata": {},
   "source": [
    "## Task #2a: Grab Apprenticeship Agreement Rows"
   ]
  },
  {
   "cell_type": "code",
   "execution_count": null,
   "metadata": {},
   "outputs": [],
   "source": [
    "#contract records -- grab 'Apprenticeship Agreement' category from the contract records\n",
    "df.sub_category.value_counts()"
   ]
  },
  {
   "cell_type": "code",
   "execution_count": null,
   "metadata": {},
   "outputs": [],
   "source": [
    "# contract-records.csv -- grab 'Apprenticeship Agreement' subcategory\n",
    "df[\"transcription_text\"] = df[\"transcription_text\"].str.replace(\"_x000D_\", \" \")\n",
    "\n",
    "pd.set_option('display.max_colwidth', None)"
   ]
  },
  {
   "cell_type": "code",
   "execution_count": null,
   "metadata": {},
   "outputs": [],
   "source": [
    "aa = df[(df['sub_category'] == 'Apprenticeship Agreement') | (df['sub_category'] == 'Apprenticeship Agreements')]"
   ]
  },
  {
   "cell_type": "markdown",
   "metadata": {},
   "source": [
    "## Task #2: Connect pages that belong to the same document"
   ]
  },
  {
   "cell_type": "code",
   "execution_count": null,
   "metadata": {},
   "outputs": [],
   "source": [
    "aa_small = aa.sample(30)"
   ]
  },
  {
   "cell_type": "code",
   "execution_count": null,
   "metadata": {},
   "outputs": [],
   "source": [
    "from langchain_openai.chat_models import ChatOpenAI\n",
    "from langchain.schema import HumanMessage, SystemMessage, AIMessage\n",
    "import textwrap\n",
    "\n",
    "# Fail fast if the documents are not from the same project\n",
    "def is_from_same_document(page1, page2):\n",
    "    try:\n",
    "        system_message = textwrap.dedent(\"\"\"Your job is to determine whether two pages are from the same document or not. \n",
    "        One of the key ways to determine this is by checking if the same names, locations, dates appear in both pages. \n",
    "        If they do, return only the boolean value \"True\". If they do not, return only the boolean value \"False\"\n",
    "        \n",
    "        Another clear indicator is if the first few words in page 2 are a continuation of the last few words on page 1\n",
    "        \n",
    "        The input format will be user message passing in page 1: <page 1 content> \\n\\n\\n page 2: <page 2 content>\n",
    "\n",
    "        IMPORTANT: only return a boolean and nothing else.\n",
    "        \"\"\")\n",
    "\n",
    "        page1_example = aa_small['transcription_text'][0]\n",
    "        page2_example = aa_small['transcription_text'][1]\n",
    "        \n",
    "        page3_example = aa_small['transcription_text'][0]\n",
    "        page4_example = aa_small['transcription_text'][1]\n",
    "        \n",
    "        example1 = aa_small['transcription_text'][3]\n",
    "        example2 = aa_small['transcription_text'][4]\n",
    "        \n",
    "        llm = ChatOpenAI(openai_api_key=\"add your openAI API\")\n",
    "\n",
    "        messages = [\n",
    "            SystemMessage(\n",
    "                content=system_message\n",
    "            ),\n",
    "            HumanMessage(\n",
    "                content=f\"page 1: {page1_example}\\n\\n\\n page 2: {page2_example}\"\n",
    "            ),\n",
    "            AIMessage(\n",
    "                content=\"True\"\n",
    "            ),\n",
    "            HumanMessage(\n",
    "                content=f\"page 1: {page3_example}\\n\\n\\n page 2: {page4_example}\"\n",
    "            ),\n",
    "            AIMessage(\n",
    "                content=\"True\"\n",
    "            ),\n",
    "            HumanMessage(\n",
    "                content=f\"page 1: {example1}\\n\\n\\n page 2: {example2}\"\n",
    "            ),\n",
    "            AIMessage(\n",
    "                content=\"False\"\n",
    "            ),\n",
    "            HumanMessage(\n",
    "                content=f\"page 1: {page1}\\n\\n\\n page 2: {page2}\"\n",
    "            ),\n",
    "        ]\n",
    "\n",
    "        chat_model_response = llm.invoke(messages, timeout=20)\n",
    "        return ast.literal_eval(chat_model_response.content)\n",
    "    \n",
    "    except Exception as e:\n",
    "        print(\"Error\", e)\n",
    "        return False\n",
    "    "
   ]
  },
  {
   "cell_type": "code",
   "execution_count": 56,
   "metadata": {},
   "outputs": [],
   "source": [
    "test_df = pd.read_csv(\"https://raw.githubusercontent.com/nicolasmome/docs-analysis-ai/main/task2-apprenticeship-agreements-sample.csv\")"
   ]
  },
  {
   "cell_type": "code",
   "execution_count": null,
   "metadata": {},
   "outputs": [],
   "source": [
    "test_df_copy = test_df.copy()\n",
    "\n",
    "merge_id = 0\n",
    "for index, row in test_df_copy.iterrows():\n",
    "    print(f\"Processing index {index} of {len(test_df_copy)}\")\n",
    "    if index+1 < len(test_df):\n",
    "        page1 = test_df.loc[index, 'transcription_text']\n",
    "        page2 = test_df.loc[index+1, 'transcription_text']\n",
    "        \n",
    "        if is_from_same_document(page1, page2):\n",
    "            print(\"HERE\")\n",
    "            test_df.loc[index,'merge_id'] = merge_id\n",
    "            test_df.loc[index+1, 'merge_id'] = merge_id\n",
    "            continue\n",
    "            \n",
    "    test_df.loc[index, 'merge_id'] = merge_id\n",
    "\n",
    "    merge_id += 1"
   ]
  },
  {
   "cell_type": "code",
   "execution_count": null,
   "metadata": {},
   "outputs": [],
   "source": [
    "test_df.head(50)"
   ]
  },
  {
   "cell_type": "markdown",
   "metadata": {},
   "source": [
    "## Task #3: Grab Apprenticeship info from CSV"
   ]
  },
  {
   "cell_type": "code",
   "execution_count": 57,
   "metadata": {},
   "outputs": [
    {
     "data": {
      "text/html": [
       "<div>\n",
       "<style scoped>\n",
       "    .dataframe tbody tr th:only-of-type {\n",
       "        vertical-align: middle;\n",
       "    }\n",
       "\n",
       "    .dataframe tbody tr th {\n",
       "        vertical-align: top;\n",
       "    }\n",
       "\n",
       "    .dataframe thead th {\n",
       "        text-align: right;\n",
       "    }\n",
       "</style>\n",
       "<table border=\"1\" class=\"dataframe\">\n",
       "  <thead>\n",
       "    <tr style=\"text-align: right;\">\n",
       "      <th></th>\n",
       "      <th>project_id</th>\n",
       "      <th>category</th>\n",
       "      <th>sub_category</th>\n",
       "      <th>document_url</th>\n",
       "      <th>merge_id</th>\n",
       "      <th>transcription_text_aggregated</th>\n",
       "    </tr>\n",
       "  </thead>\n",
       "  <tbody>\n",
       "    <tr>\n",
       "      <th>0</th>\n",
       "      <td>11406</td>\n",
       "      <td>Contracts</td>\n",
       "      <td>Apprenticeship Agreement</td>\n",
       "      <td>https://transcription.si.edu/transcribe/11406/NMAAHC-004567395_00439</td>\n",
       "      <td>0.0</td>\n",
       "      <td>Copy \\n \\nAgreement of Apprenticeship \\nBu  \\nMrs. Kate V.Chamblin  \\nof the first part and \\n \\n1st Lt. Geo. W. Rollins \\nV.R.C. U.S. Army Agt \\nfor Carroll Parish La. of  \\nthe second part \\n \\nMinor Orphans Freed \\nJames Samenett \\nBetty Taylor \\nMary Taylor    \\n \\nLake Providence \\nCarroll Parish La \\nDated Oct. 1 1866 \\nExec'd Nov. 3 1866 \\n\\n[H 132 ENCL]  \\n \\nCopy \\n \\nAgreement of Apprenticeship. \\n \\nThis agreement in two parts made &amp; entered into this 1\" day of October A. D. 1866 by &amp; between Mrs Kate V. Chambliss of the first part and 1st Lieut Geo. W. Rollins Vet Res. Corps U.S.A. Agent for Carroll Parish La. Bur of Ref. Freedn &amp; Aband Lands La and by virtue of authority contained in Circular No 25 dated Hd. Qrs. Bur Ref Freedn &amp; Abd Lands New Orleans Louisiana Octr 31\" 1865 Guardian for Minors &amp; orphans of Freedmen for Carroll Parish La party hereto of the second part. Witnesseth That James Samenett, Betty Taylor and Mary Taylor minor orphans of African decent are hereby bound &amp; apprenticed to service to the said Mrs Kate V. Chambliss party of the first part &amp; undersigned during their years of minority commencing &amp; ending as follows: James Samenett aged 14 years, commencing on the 1\" day of Oct. A. D. 1866 &amp; terminating on the 1\" day of October 1870. Betty Taylor aged 9 years commencing on the 1\" day of Oct. A. D. 1866 &amp; ending on the 1\" day of Oct. A. D. 1872. Mary Taylor aged 7 years commencing on the 1\" day of October A. D. 1866 &amp; terminating on the 1\" day of October A. D. 1874. And it\\nis agreed on the part of the party of the first part &amp; undersigned Mrs Kate V. Chambliss that for the consideration of the faithfull services to be rendered by the within named &amp; said minor orphans the said minor orphans shall receive comfortable clothing, board medical treatment when sick, a reasonable amount of schooling and permission to attend church each Sabbath and at the end or termination of their term of apprenticeship the said minor orphans shall be allowed to retain all articles of their personal apparel. \\n    \\nThe said parties do hereby mutually agree that all laws or parts of laws enacted or that may be enacted by the United States or the State of Louisiana establishing laws for the welfare or government of Freedmens minors or orphans or for the government of the same under laws establishing the Bur of Ref Freed &amp; Ab^d Lands or in any way affecting the provisions of this agreement is &amp; shall be made a part of this agreement and that all laws applying to white minors or orphans shall be extended to the said &amp; within named minor orphans during the conti-\\ncontinuance of this agreement &amp; finally that this agreement shall expire &amp; terminate when the aforesaid minor male orphan shall have arrived at the age of eighteen years and the minor female orphans shall have arrived at the age of fifteen years respectively. \\n    \\nIn testimony whereof the said parties have hereunto affixed their names to this agreement. Done at Lake Providence Louisiana Parish of Carroll on the third day of November A. D. 1866. \\n \\nsigned Kate V. Chambliss  \\nsigned Geo. W Rollins \\n1st Lieut. VRC. U.S. Army \\nAgent for Carrol Parish  \\nLa. Bureau of R. F. &amp; A Lands \\nLouisiana \\n \\nExecuted in Presence of \\nSigned Ben C. Johnson \\nJackson Chambliss \\nJohn A. Ginst [[?]] \\n \\n[[image - three boxes oriented vertically representing Internal Revenue Stamps that appeared on original document, reading as follows: 2¢ / Int Rev / [[illegible]]; a single illegible initial appears beneath each \"stamp\"]] \\n \\nI certify the above to be a true copy of the original Indenture in possession of Mrs Kate V. Chambliss. \\n          \\nTho H. Hay  \\n1st Lieut 42d Infty \\nA S. A. Comr</td>\n",
       "    </tr>\n",
       "    <tr>\n",
       "      <th>1</th>\n",
       "      <td>15369</td>\n",
       "      <td>Contracts</td>\n",
       "      <td>Apprenticeship Agreement</td>\n",
       "      <td>https://transcription.si.edu/transcribe/15369/NMAAHC-004567415_00230</td>\n",
       "      <td>1.0</td>\n",
       "      <td>[[preprinted]] \\nBureau of Refugees, Freedman and Abandoned Lands, \\nHead-Quarters, Asst. Commissioner, State of North Carolina \\nRaleigh, N.C., ^[[March 2\"]] 186^[[6]] [[/preprinted]] \\n \\nJim Tew (Colored) having made statements that he and his brother Charley &amp; Joe have been bound by one Richd Holmes of Sampson County to one Lewis Tew. - Know all by these that the said Richd Holmes has no authority for binding or apprenticing minors, and that all indentures that may have been made by him are null and void. the aforesaid Jim Tew and his brother Charley and Joe are free to engage in any contract or to work with such as may wish to hire them. \\n \\nAll officers of the Bureau, Capts of Police or others are requested to see that these men are protected in their rights. \\n \\nBy order of Col. Whittlesey, Asst. Commissioner \\n \\nLieut. and A. A. A. Genl. \\nJim Tew reports that Dick Holmes, Capt— bound him to Lewis Tew on Wednesday Feby 1866. That he will be 20 yrs. old Apr. 27\" 1866. Also that the same man bound his brothers Charley &amp; Joe aged 18— &amp; 14 yrs respectively. Lewis Tew told him he would clear him Jim Tew if he would pay $75.00 for his freedom. Says  that he &amp; his brother Charley were cutting boxes for Tom Cannedy, and my brother Joe was hired out to one Joe Smith— Jim received $18 per month Charley got $32. a month— Joe received $5— per month—  We all were bound without our knowledge or consent— \\n \\nJim further says he has a wife &amp; one child — who are now working for Mr. Ila Tew.</td>\n",
       "    </tr>\n",
       "    <tr>\n",
       "      <th>2</th>\n",
       "      <td>15369</td>\n",
       "      <td>Contracts</td>\n",
       "      <td>Apprenticeship Agreement</td>\n",
       "      <td>https://transcription.si.edu/transcribe/15369/NMAAHC-004567415_00233</td>\n",
       "      <td>2.0</td>\n",
       "      <td>[[preprinted]] \\nBureau of Refugees, Freedmen and Abandoned Lands, \\nHead-Quarters, Asst. Commissioner, State of North Carolina \\nRaleigh, N.C., ^[[Jany 24\"]] 186^[[6]] [[/preprinted]] \\n \\nIn the case referred by you, if the cause of separation is bad conduct on the part of the mother, the children may be taken by the father, who is bound by law to support them. \\n \\nIf he is unable to support them and can bind them out to reliable men, application should be made to the nearest officer or agent of the Bureau, who has full authority to bind children with the consent of parents or proper guardian. \\n \\nBy Command of Col Whittlesey Asst. Commissioner \\n[[signature]] Fred H. Beecher [[/signature]] \\nLt &amp; A.A.A. Genl. \\n \\nThe officer for Bladen Co is stationed at Wilmington N.C. and any communication addressed to him will be duly honored - \\n \\n[[signature]] F H Beecher [[/signature]] \\nLt &amp; A A A Genl</td>\n",
       "    </tr>\n",
       "    <tr>\n",
       "      <th>3</th>\n",
       "      <td>15411</td>\n",
       "      <td>Contracts</td>\n",
       "      <td>Apprenticeship Agreement</td>\n",
       "      <td>https://transcription.si.edu/transcribe/15411/NMAAHC-004567415_00450</td>\n",
       "      <td>3.0</td>\n",
       "      <td>Moore County Court House April Term 1868. \\n \\nOn motion: it is ordered by the Court that all indentures for binding children White or colored as apprentices in controvention of the decision of the Supreme Court of N.C. in the case of \"Ambrose v.s. Russell\" be at once cancelled. It is further ordered by the Court, that, upon the application of the next kin of any child as indentured the Clerk issue an Order to the party in whose posession such child may be, to surrender him or her to such applicant an that the Clerk be paid Twenty five Cents for such order by the applicant. \\n \\nfrom the minutes \\n(signed) A. H. McNeil C.C.C. \\n \\n\"A Copy\" \\nList of Indentures cancelled at Moore County Court April 30th 1868 made and executed in conflict with decision of Supreme Court of N.C. in the case of Ambrose v.s. Russell as prescribed Cir. No. 5. Series 1867 Hd. Qrs. Asst. Comr. Bureau R. F. &amp; A. L. State of North Carolina. \\n \\n[[7 column table]] \\nDate of Apprenticeship | Name of Apprentice | To whom Apprenticed | Age | Color | Date of Cancellation | Remarks. \\n \\nApril Term 1862 | Margaret Lancaster | K. B. Kelly | 8 years | White | April 30th 1868. | - \\n \\n\" \" \" [[dittos for April Term 1862]] | Kennet Lancaster | H. H. Martin | 5 \" [[ditto for years]] | \" [[ditto for White]] | \" \" \" [[dittos for April 30th 1868.]] | - \\n \\nOct \" [[ditto for Term]] 1866 | Alexander Davis | Isham Wallace | 9 \" [[ditto for years]] | \" [[ditto for White]] | \" \" \" [[dittos for April 30th 1868.]] | - \\n \\n\" \" \" [[dittos for Oct Term 1866]] | John Davis | Isham Wallace | 10 \" [[ditto for years]] | \" [[ditto for White]] | \" \" \" [[dittos for April 30th 1868.]] | - \\n \\nJany \" [[ditto for Term]] 1867 | Rasmus Woodall | W. R. Reynolds | 14 \" [[ditto for years]] | \" [[ditto for White]] | \" \" \" [[dittos for April 30th 1868.]] | - \\n \\nApril \" [[dittos for Term]] 1862 | William Lancaster | Lauchlin B. Currie | 7 \" [[ditto for years]] | Colored | \" \" \" [[dittos for April 30th 1868.]] | - \\n \\n\" \" \" [[dittos for April Term 1862]] | Noah Cagle | Lindsey Cagle | 18 \" [[ditto for years]] | \" [[ditto for Colored]] | \" \" \" [[dittos for April 30th 1868.]] | - \\n \\nJuly \" \" [[dittos for Term 1862]] | Robt Lancaster | Walter A. Fry | 3 \" [[ditto for years]] | \" [[ditto for Colored]] | \" \" \" [[dittos for April 30th 1868.]] | - \\n \\nApril \" [[dittos for Term]] 1866 | Edward Farley | Wesley McIver | 9 \" [[ditto for years]] | \" [[ditto for Colored]] | \" \" \" [[dittos for April 30th 1868.]] | - \\n \\nJuly \" \" [[dittos for Term 1866]] | David McCallum | S. W. Sewell | 6 \" [[ditto for years]] | \" [[ditto for Colored]] | \" \" \" [[dittos for April 30th 1868.]] | - \\n \\n\" \" \" [[dittos for July Term 1866]] | Squire Dowd | W. D. Dowd | 12 \" [[ditto for years]] | \" [[ditto for Colored]] | \" \" \" [[dittos for April 30th 1868.]] | - \\n \\n\" \" \" [[dittos for July Term 1866]] | Polly Dowd | W. D. Dowd | 8 \" [[ditto for years]] | \" [[ditto for Colored]] | \" \" \" [[dittos for April 30th 1868.]] | - \\n \\n\" \" \" [[dittos for July Term 1866]] | Francis Currie | Corns. Dunlop | 13 \" [[ditto for years]] | \" [[ditto for Colored]] | \" \" \" [[dittos for April 30th 1868.]] | - \\n \\nOct \" \" [[dittos for Term 1866]] | Cain McLeod | A. H. McLeod | 12 \" [[ditto for years]] | \" [[ditto for Colored]] | \" \" \" [[dittos for April 30th 1868.]] | - \\n \\n\" \" \" [[dittos for Oct Term 1866]] | Fredrick McLeod | A. H. McLeod | 8 \" [[ditto for years]] | \" [[ditto for Colored]] | \" \" \" [[dittos for April 30th 1868.]] | - \\n \\nJany \" [[ditto for Term]] 1867 | Jane Clegg | W. B. Clegg | 9 \" [[ditto for years]] | \" [[ditto for Colored]] | \" \" \" [[dittos for April 30th 1868.]] | - \\n \\n\" \" \" [[dittos for Jany Term 1867]] | Joseph Currie | Duncan B. Currie | 5 \" [[ditto for years]] | \"[[ditto for Colored]] | \" \" \" [[dittos for April 30th 1868.]] | - \\n \\n\" \" \" [[dittos for Jany Term 1867]] | Ellen Patridge | E. B. Patridge | 7 \" [[ditto for years]] | \" [[ditto for Colored]] | \" \" \" [[dittos for April 30th 1868.]] | - \\n \\n\" \" \" [[dittos for Jany Term 1867]] | Charles Patridge | E. B. Patridge | 14 \" [[ditto for years]] | \" [[ditto for Colored]] | \" \" \" [[dittos for April 30th 1868.]] | - \\n \\n\" \" \" [[dittos for Jany Term 1867]] | Henderson Patridge | E. B. Patridge | 12 \" [[ditto for years]] | \" [[ditto for Colored]] | \" \" \" [[dittos for April 30th 1868.]] | - \\n \\n\" \" \" [[dittos for Jany Term 1867]] | Robt. Patridge | E. B. Patridge | 7 \" [[ditto for years]] | \" [[ditto for Colored]] | \" \" \" [[dittos for April 30th 1868.]] | - \\n \\n[[/table]] \\n \\n[[signature]] Richard Dillon [[/signature]] \\nCapt. V.R.C. Bvt. Maj. U.S.V. A.S.A. Comr.</td>\n",
       "    </tr>\n",
       "    <tr>\n",
       "      <th>4</th>\n",
       "      <td>15483</td>\n",
       "      <td>Contracts</td>\n",
       "      <td>Apprenticeship Agreement</td>\n",
       "      <td>https://transcription.si.edu/transcribe/15483/NMAAHC-004567415_00548</td>\n",
       "      <td>4.0</td>\n",
       "      <td>Judge Ralph P. Buxston Fayetteville Cumberland County N.C. \\nDistrict Solicitor Neal Kay, Fayetteville Cumberland County N.C. \\nCounty Solicitor French Strange Fayetteville Cumberland County N.C. \\nChairman Cumberland County Court David McNeal \\n \\nMonthly Report of Indentures of Apprenticeship of Colored Chilldren. \\n \\nCumberland County Court N.C. | Time | Place | Bladen County Court NC | Time | Place | No of Indentures Made | Cancelled | Remarks \\n \\n- | March 4th 1867 | Fayetteville | - | February 4th 1867 | Elisabeth | - | - | I took charge of this Office Feby 4th 1867 — since then no case has been brought before me wherein Indentures of Apprenticeship have been made or cancelled \\n \\nI am with high Respect \\nYour Most Obedient Ser \\nManchester W. Weld  \\nAgent Bu. R. F. &amp; A Lands. \\nCumberland Co N.C</td>\n",
       "    </tr>\n",
       "  </tbody>\n",
       "</table>\n",
       "</div>"
      ],
      "text/plain": [
       "   project_id   category              sub_category  \\\n",
       "0       11406  Contracts  Apprenticeship Agreement   \n",
       "1       15369  Contracts  Apprenticeship Agreement   \n",
       "2       15369  Contracts  Apprenticeship Agreement   \n",
       "3       15411  Contracts  Apprenticeship Agreement   \n",
       "4       15483  Contracts  Apprenticeship Agreement   \n",
       "\n",
       "                                                           document_url  \\\n",
       "0  https://transcription.si.edu/transcribe/11406/NMAAHC-004567395_00439   \n",
       "1  https://transcription.si.edu/transcribe/15369/NMAAHC-004567415_00230   \n",
       "2  https://transcription.si.edu/transcribe/15369/NMAAHC-004567415_00233   \n",
       "3  https://transcription.si.edu/transcribe/15411/NMAAHC-004567415_00450   \n",
       "4  https://transcription.si.edu/transcribe/15483/NMAAHC-004567415_00548   \n",
       "\n",
       "   merge_id  \\\n",
       "0       0.0   \n",
       "1       1.0   \n",
       "2       2.0   \n",
       "3       3.0   \n",
       "4       4.0   \n",
       "\n",
       "                                                                                                                                                                                                                                                                                                                                                                                                                                                                                                                                                                                                                                                                                                                                                                                                                                                                                                                                                                                                                                                                                                                                                                                                                                                                                                                                                                                                                                                                                                                                                                                                                                                                                                                                                                                                                                                                                                                                                                                                                                                                                                                                                                                                                                                                                                                                                                                                                                                                                                                                                                                                                                                                                                                                                                                                                                                                                                                                                                                                                                                                                                                                                                                                                                                                                                                                                                                                                                                                                                                                                                                                                                                                                                                                                                                                                                                                                                                                                                                                                                                                                                                                                                                                                                                                                                                                                                                                                                                                                                                                                                                                                                                                                                                                                                               transcription_text_aggregated  \n",
       "0                                                                                                                                                                                                                                                                                                                                                                                                                                                                                                                                                                                                                                                                                                                                                                                                                                                                                                                                         Copy \\n \\nAgreement of Apprenticeship \\nBu  \\nMrs. Kate V.Chamblin  \\nof the first part and \\n \\n1st Lt. Geo. W. Rollins \\nV.R.C. U.S. Army Agt \\nfor Carroll Parish La. of  \\nthe second part \\n \\nMinor Orphans Freed \\nJames Samenett \\nBetty Taylor \\nMary Taylor    \\n \\nLake Providence \\nCarroll Parish La \\nDated Oct. 1 1866 \\nExec'd Nov. 3 1866 \\n\\n[H 132 ENCL]  \\n \\nCopy \\n \\nAgreement of Apprenticeship. \\n \\nThis agreement in two parts made & entered into this 1\" day of October A. D. 1866 by & between Mrs Kate V. Chambliss of the first part and 1st Lieut Geo. W. Rollins Vet Res. Corps U.S.A. Agent for Carroll Parish La. Bur of Ref. Freedn & Aband Lands La and by virtue of authority contained in Circular No 25 dated Hd. Qrs. Bur Ref Freedn & Abd Lands New Orleans Louisiana Octr 31\" 1865 Guardian for Minors & orphans of Freedmen for Carroll Parish La party hereto of the second part. Witnesseth That James Samenett, Betty Taylor and Mary Taylor minor orphans of African decent are hereby bound & apprenticed to service to the said Mrs Kate V. Chambliss party of the first part & undersigned during their years of minority commencing & ending as follows: James Samenett aged 14 years, commencing on the 1\" day of Oct. A. D. 1866 & terminating on the 1\" day of October 1870. Betty Taylor aged 9 years commencing on the 1\" day of Oct. A. D. 1866 & ending on the 1\" day of Oct. A. D. 1872. Mary Taylor aged 7 years commencing on the 1\" day of October A. D. 1866 & terminating on the 1\" day of October A. D. 1874. And it\\nis agreed on the part of the party of the first part & undersigned Mrs Kate V. Chambliss that for the consideration of the faithfull services to be rendered by the within named & said minor orphans the said minor orphans shall receive comfortable clothing, board medical treatment when sick, a reasonable amount of schooling and permission to attend church each Sabbath and at the end or termination of their term of apprenticeship the said minor orphans shall be allowed to retain all articles of their personal apparel. \\n    \\nThe said parties do hereby mutually agree that all laws or parts of laws enacted or that may be enacted by the United States or the State of Louisiana establishing laws for the welfare or government of Freedmens minors or orphans or for the government of the same under laws establishing the Bur of Ref Freed & Ab^d Lands or in any way affecting the provisions of this agreement is & shall be made a part of this agreement and that all laws applying to white minors or orphans shall be extended to the said & within named minor orphans during the conti-\\ncontinuance of this agreement & finally that this agreement shall expire & terminate when the aforesaid minor male orphan shall have arrived at the age of eighteen years and the minor female orphans shall have arrived at the age of fifteen years respectively. \\n    \\nIn testimony whereof the said parties have hereunto affixed their names to this agreement. Done at Lake Providence Louisiana Parish of Carroll on the third day of November A. D. 1866. \\n \\nsigned Kate V. Chambliss  \\nsigned Geo. W Rollins \\n1st Lieut. VRC. U.S. Army \\nAgent for Carrol Parish  \\nLa. Bureau of R. F. & A Lands \\nLouisiana \\n \\nExecuted in Presence of \\nSigned Ben C. Johnson \\nJackson Chambliss \\nJohn A. Ginst [[?]] \\n \\n[[image - three boxes oriented vertically representing Internal Revenue Stamps that appeared on original document, reading as follows: 2¢ / Int Rev / [[illegible]]; a single illegible initial appears beneath each \"stamp\"]] \\n \\nI certify the above to be a true copy of the original Indenture in possession of Mrs Kate V. Chambliss. \\n          \\nTho H. Hay  \\n1st Lieut 42d Infty \\nA S. A. Comr  \n",
       "1                                                                                                                                                                                                                                                                                                                                                                                                                                                                                                                                                                                                                                                                                                                                                                                                                                                                                                                                                                                                                                                                                                                                                                                                                                                                                                                                                                                                                                                                                                                                                                                                                                                                                                                                                                                                                                                                                                                                                                                                                                                                                                                                                                                                                                                                                                                                                                                                                                                                                                                                                                                                                                                                                                                                                                                                                                                                                                                                                                                                                                                                                                                                                                                                                                    [[preprinted]] \\nBureau of Refugees, Freedman and Abandoned Lands, \\nHead-Quarters, Asst. Commissioner, State of North Carolina \\nRaleigh, N.C., ^[[March 2\"]] 186^[[6]] [[/preprinted]] \\n \\nJim Tew (Colored) having made statements that he and his brother Charley & Joe have been bound by one Richd Holmes of Sampson County to one Lewis Tew. - Know all by these that the said Richd Holmes has no authority for binding or apprenticing minors, and that all indentures that may have been made by him are null and void. the aforesaid Jim Tew and his brother Charley and Joe are free to engage in any contract or to work with such as may wish to hire them. \\n \\nAll officers of the Bureau, Capts of Police or others are requested to see that these men are protected in their rights. \\n \\nBy order of Col. Whittlesey, Asst. Commissioner \\n \\nLieut. and A. A. A. Genl. \\nJim Tew reports that Dick Holmes, Capt— bound him to Lewis Tew on Wednesday Feby 1866. That he will be 20 yrs. old Apr. 27\" 1866. Also that the same man bound his brothers Charley & Joe aged 18— & 14 yrs respectively. Lewis Tew told him he would clear him Jim Tew if he would pay $75.00 for his freedom. Says  that he & his brother Charley were cutting boxes for Tom Cannedy, and my brother Joe was hired out to one Joe Smith— Jim received $18 per month Charley got $32. a month— Joe received $5— per month—  We all were bound without our knowledge or consent— \\n \\nJim further says he has a wife & one child — who are now working for Mr. Ila Tew.   \n",
       "2                                                                                                                                                                                                                                                                                                                                                                                                                                                                                                                                                                                                                                                                                                                                                                                                                                                                                                                                                                                                                                                                                                                                                                                                                                                                                                                                                                                                                                                                                                                                                                                                                                                                                                                                                                                                                                                                                                                                                                                                                                                                                                                                                                                                                                                                                                                                                                                                                                                                                                                                                                                                                                                                                                                                                                                                                                                                                                                                                                                                                                                                                                                                                                                                                                                                                                                                                                                                                                                                                                                                                                                                                                                                                                                                                                                                                                                          [[preprinted]] \\nBureau of Refugees, Freedmen and Abandoned Lands, \\nHead-Quarters, Asst. Commissioner, State of North Carolina \\nRaleigh, N.C., ^[[Jany 24\"]] 186^[[6]] [[/preprinted]] \\n \\nIn the case referred by you, if the cause of separation is bad conduct on the part of the mother, the children may be taken by the father, who is bound by law to support them. \\n \\nIf he is unable to support them and can bind them out to reliable men, application should be made to the nearest officer or agent of the Bureau, who has full authority to bind children with the consent of parents or proper guardian. \\n \\nBy Command of Col Whittlesey Asst. Commissioner \\n[[signature]] Fred H. Beecher [[/signature]] \\nLt & A.A.A. Genl. \\n \\nThe officer for Bladen Co is stationed at Wilmington N.C. and any communication addressed to him will be duly honored - \\n \\n[[signature]] F H Beecher [[/signature]] \\nLt & A A A Genl   \n",
       "3  Moore County Court House April Term 1868. \\n \\nOn motion: it is ordered by the Court that all indentures for binding children White or colored as apprentices in controvention of the decision of the Supreme Court of N.C. in the case of \"Ambrose v.s. Russell\" be at once cancelled. It is further ordered by the Court, that, upon the application of the next kin of any child as indentured the Clerk issue an Order to the party in whose posession such child may be, to surrender him or her to such applicant an that the Clerk be paid Twenty five Cents for such order by the applicant. \\n \\nfrom the minutes \\n(signed) A. H. McNeil C.C.C. \\n \\n\"A Copy\" \\nList of Indentures cancelled at Moore County Court April 30th 1868 made and executed in conflict with decision of Supreme Court of N.C. in the case of Ambrose v.s. Russell as prescribed Cir. No. 5. Series 1867 Hd. Qrs. Asst. Comr. Bureau R. F. & A. L. State of North Carolina. \\n \\n[[7 column table]] \\nDate of Apprenticeship | Name of Apprentice | To whom Apprenticed | Age | Color | Date of Cancellation | Remarks. \\n \\nApril Term 1862 | Margaret Lancaster | K. B. Kelly | 8 years | White | April 30th 1868. | - \\n \\n\" \" \" [[dittos for April Term 1862]] | Kennet Lancaster | H. H. Martin | 5 \" [[ditto for years]] | \" [[ditto for White]] | \" \" \" [[dittos for April 30th 1868.]] | - \\n \\nOct \" [[ditto for Term]] 1866 | Alexander Davis | Isham Wallace | 9 \" [[ditto for years]] | \" [[ditto for White]] | \" \" \" [[dittos for April 30th 1868.]] | - \\n \\n\" \" \" [[dittos for Oct Term 1866]] | John Davis | Isham Wallace | 10 \" [[ditto for years]] | \" [[ditto for White]] | \" \" \" [[dittos for April 30th 1868.]] | - \\n \\nJany \" [[ditto for Term]] 1867 | Rasmus Woodall | W. R. Reynolds | 14 \" [[ditto for years]] | \" [[ditto for White]] | \" \" \" [[dittos for April 30th 1868.]] | - \\n \\nApril \" [[dittos for Term]] 1862 | William Lancaster | Lauchlin B. Currie | 7 \" [[ditto for years]] | Colored | \" \" \" [[dittos for April 30th 1868.]] | - \\n \\n\" \" \" [[dittos for April Term 1862]] | Noah Cagle | Lindsey Cagle | 18 \" [[ditto for years]] | \" [[ditto for Colored]] | \" \" \" [[dittos for April 30th 1868.]] | - \\n \\nJuly \" \" [[dittos for Term 1862]] | Robt Lancaster | Walter A. Fry | 3 \" [[ditto for years]] | \" [[ditto for Colored]] | \" \" \" [[dittos for April 30th 1868.]] | - \\n \\nApril \" [[dittos for Term]] 1866 | Edward Farley | Wesley McIver | 9 \" [[ditto for years]] | \" [[ditto for Colored]] | \" \" \" [[dittos for April 30th 1868.]] | - \\n \\nJuly \" \" [[dittos for Term 1866]] | David McCallum | S. W. Sewell | 6 \" [[ditto for years]] | \" [[ditto for Colored]] | \" \" \" [[dittos for April 30th 1868.]] | - \\n \\n\" \" \" [[dittos for July Term 1866]] | Squire Dowd | W. D. Dowd | 12 \" [[ditto for years]] | \" [[ditto for Colored]] | \" \" \" [[dittos for April 30th 1868.]] | - \\n \\n\" \" \" [[dittos for July Term 1866]] | Polly Dowd | W. D. Dowd | 8 \" [[ditto for years]] | \" [[ditto for Colored]] | \" \" \" [[dittos for April 30th 1868.]] | - \\n \\n\" \" \" [[dittos for July Term 1866]] | Francis Currie | Corns. Dunlop | 13 \" [[ditto for years]] | \" [[ditto for Colored]] | \" \" \" [[dittos for April 30th 1868.]] | - \\n \\nOct \" \" [[dittos for Term 1866]] | Cain McLeod | A. H. McLeod | 12 \" [[ditto for years]] | \" [[ditto for Colored]] | \" \" \" [[dittos for April 30th 1868.]] | - \\n \\n\" \" \" [[dittos for Oct Term 1866]] | Fredrick McLeod | A. H. McLeod | 8 \" [[ditto for years]] | \" [[ditto for Colored]] | \" \" \" [[dittos for April 30th 1868.]] | - \\n \\nJany \" [[ditto for Term]] 1867 | Jane Clegg | W. B. Clegg | 9 \" [[ditto for years]] | \" [[ditto for Colored]] | \" \" \" [[dittos for April 30th 1868.]] | - \\n \\n\" \" \" [[dittos for Jany Term 1867]] | Joseph Currie | Duncan B. Currie | 5 \" [[ditto for years]] | \"[[ditto for Colored]] | \" \" \" [[dittos for April 30th 1868.]] | - \\n \\n\" \" \" [[dittos for Jany Term 1867]] | Ellen Patridge | E. B. Patridge | 7 \" [[ditto for years]] | \" [[ditto for Colored]] | \" \" \" [[dittos for April 30th 1868.]] | - \\n \\n\" \" \" [[dittos for Jany Term 1867]] | Charles Patridge | E. B. Patridge | 14 \" [[ditto for years]] | \" [[ditto for Colored]] | \" \" \" [[dittos for April 30th 1868.]] | - \\n \\n\" \" \" [[dittos for Jany Term 1867]] | Henderson Patridge | E. B. Patridge | 12 \" [[ditto for years]] | \" [[ditto for Colored]] | \" \" \" [[dittos for April 30th 1868.]] | - \\n \\n\" \" \" [[dittos for Jany Term 1867]] | Robt. Patridge | E. B. Patridge | 7 \" [[ditto for years]] | \" [[ditto for Colored]] | \" \" \" [[dittos for April 30th 1868.]] | - \\n \\n[[/table]] \\n \\n[[signature]] Richard Dillon [[/signature]] \\nCapt. V.R.C. Bvt. Maj. U.S.V. A.S.A. Comr.  \n",
       "4                                                                                                                                                                                                                                                                                                                                                                                                                                                                                                                                                                                                                                                                                                                                                                                                                                                                                                                                                                                                                                                                                                                                                                                                                                                                                                                                                                                                                                                                                                                                                                                                                                                                                                                                                                                                                                                                                                                                                                                                                                                                                                                                                                                                                                                                                                                                                                                                                                                                                                                                                                                                                                                                                                                                                                                                                                                                                                                                                                                                                                                                                                                                                                                                                                                                                                                                                                                                                                                                                                                                                                                                                                                                                                                                                                                                                                                                                                                                                          Judge Ralph P. Buxston Fayetteville Cumberland County N.C. \\nDistrict Solicitor Neal Kay, Fayetteville Cumberland County N.C. \\nCounty Solicitor French Strange Fayetteville Cumberland County N.C. \\nChairman Cumberland County Court David McNeal \\n \\nMonthly Report of Indentures of Apprenticeship of Colored Chilldren. \\n \\nCumberland County Court N.C. | Time | Place | Bladen County Court NC | Time | Place | No of Indentures Made | Cancelled | Remarks \\n \\n- | March 4th 1867 | Fayetteville | - | February 4th 1867 | Elisabeth | - | - | I took charge of this Office Feby 4th 1867 — since then no case has been brought before me wherein Indentures of Apprenticeship have been made or cancelled \\n \\nI am with high Respect \\nYour Most Obedient Ser \\nManchester W. Weld  \\nAgent Bu. R. F. & A Lands. \\nCumberland Co N.C  "
      ]
     },
     "execution_count": 57,
     "metadata": {},
     "output_type": "execute_result"
    }
   ],
   "source": [
    "df = pd.read_csv('https://raw.githubusercontent.com/nicolasmome/docs-analysis-ai/main/task3-merged-apprenticeship-agreements.csv')\n",
    "df.head()"
   ]
  },
  {
   "cell_type": "code",
   "execution_count": 53,
   "metadata": {},
   "outputs": [],
   "source": [
    "from langchain_openai.chat_models import ChatOpenAI\n",
    "from langchain.schema import HumanMessage, SystemMessage, AIMessage\n",
    "\n",
    "# llm = ChatOllama(model=\"llama2\", format=\"json\")\n",
    "llm = ChatOpenAI(openai_api_key=\"add your openAI API\")\n",
    "\n",
    "def get_output(input_text):\n",
    "    try:\n",
    "        system_message = \"\"\"Your job is to parse out information about apprenticeship agreement contracts in the United States.\n",
    "\n",
    "        output the following JSON object\n",
    "        {{\"results\" : [{{\n",
    "        \"apprentice_name\": \"<name of apprentice>\",\n",
    "        \"apprentice_age\": <age of apprentice>, # in years\n",
    "        \"mentor_name\": \"<name of person taking in the apprentice>\", \n",
    "        \"county\": \"< the county where the contract was made>\", # can only be one from \"hourly\", \"daily\", \"weekly\", \"monthly\", \"yearly\", or \"other\"\n",
    "        \"state\": \"< the state where the contract was made>\" # write out full state, not just abbreviation \n",
    "        }}], {{ <ITEM 2> }}, {{ <ITEM 3> }}]\n",
    "        }}\n",
    "\n",
    "        IMPORTANT: return only the json and nothing else. \n",
    "\n",
    "        Note if there are multiple apprentices in a single document, create a dictionary item entry for each one in the results list\n",
    "        \"\"\"\n",
    "\n",
    "        messages = [\n",
    "            SystemMessage(\n",
    "                content=system_message\n",
    "            ),\n",
    "            HumanMessage(\n",
    "                content=input_text\n",
    "            ),\n",
    "        ]\n",
    "\n",
    "        chat_model_response = llm.invoke(messages, timeout=20)\n",
    "        return chat_model_response.content\n",
    "    except Exception as e:\n",
    "        return None"
   ]
  },
  {
   "cell_type": "code",
   "execution_count": 55,
   "metadata": {},
   "outputs": [
    {
     "name": "stdout",
     "output_type": "stream",
     "text": [
      "0\n",
      "1\n",
      "2\n",
      "3\n",
      "4\n",
      "5\n",
      "6\n",
      "7\n",
      "8\n",
      "9\n",
      "10\n",
      "11\n",
      "12\n",
      "13\n",
      "14\n",
      "15\n",
      "16\n",
      "17\n",
      "18\n",
      "19\n",
      "20\n",
      "21\n",
      "22\n",
      "23\n",
      "24\n",
      "25\n",
      "26\n",
      "27\n",
      "28\n",
      "29\n",
      "30\n",
      "31\n",
      "32\n",
      "33\n",
      "34\n",
      "35\n",
      "36\n",
      "37\n",
      "38\n",
      "39\n",
      "40\n",
      "41\n",
      "42\n",
      "43\n",
      "44\n",
      "45\n",
      "46\n",
      "47\n",
      "48\n",
      "49\n"
     ]
    }
   ],
   "source": [
    "df_small = df.head(50).copy()\n",
    "\n",
    "for index, row in df_small.iterrows():\n",
    "    print(index)\n",
    "    input_text = row[\"transcription_text_aggregated\"]\n",
    "    output = get_output(input_text)\n",
    "\n",
    "    df_small.loc[index, \"output_json\"] = output"
   ]
  },
  {
   "cell_type": "markdown",
   "metadata": {},
   "source": [
    "## Task #4: Analyze Results"
   ]
  },
  {
   "cell_type": "code",
   "execution_count": 58,
   "metadata": {},
   "outputs": [],
   "source": [
    "df = pd.read_csv(\"https://raw.githubusercontent.com/nicolasmome/docs-analysis-ai/main/task4-parsed-apprenticeship-agreements.csv\")"
   ]
  },
  {
   "cell_type": "code",
   "execution_count": 61,
   "metadata": {},
   "outputs": [],
   "source": [
    "import json"
   ]
  },
  {
   "cell_type": "code",
   "execution_count": 62,
   "metadata": {},
   "outputs": [
    {
     "name": "stdout",
     "output_type": "stream",
     "text": [
      "Expecting value: line 7 column 19 (char 140)\n",
      "Expecting value: line 7 column 19 (char 136)\n",
      "the JSON object must be str, bytes or bytearray, not float\n",
      "Expecting value: line 7 column 19 (char 119)\n",
      "Expecting value: line 7 column 19 (char 122)\n",
      "Expecting value: line 7 column 19 (char 121)\n",
      "Expecting value: line 7 column 19 (char 124)\n",
      "Expecting value: line 7 column 19 (char 119)\n",
      "Expecting value: line 7 column 19 (char 131)\n",
      "Expecting value: line 7 column 19 (char 128)\n",
      "Expecting value: line 7 column 19 (char 124)\n",
      "Expecting value: line 7 column 25 (char 140)\n",
      "Expecting value: line 7 column 19 (char 134)\n",
      "Expecting value: line 7 column 25 (char 153)\n",
      "Expecting value: line 7 column 19 (char 125)\n",
      "Expecting value: line 7 column 19 (char 131)\n",
      "Expecting value: line 7 column 19 (char 117)\n",
      "Expecting value: line 8 column 10 (char 138)\n",
      "Expecting value: line 8 column 10 (char 129)\n",
      "Expecting value: line 7 column 19 (char 121)\n",
      "Expecting value: line 7 column 19 (char 134)\n",
      "Expecting value: line 7 column 19 (char 120)\n",
      "Expecting value: line 7 column 25 (char 154)\n",
      "Expecting value: line 7 column 19 (char 124)\n",
      "Expecting value: line 7 column 19 (char 137)\n",
      "Expecting value: line 9 column 11 (char 166)\n",
      "Expecting value: line 9 column 11 (char 165)\n",
      "Expecting value: line 7 column 19 (char 120)\n",
      "Expecting value: line 7 column 19 (char 134)\n",
      "Expecting value: line 7 column 19 (char 121)\n",
      "Expecting value: line 95 column 19 (char 1702)\n",
      "Expecting value: line 7 column 19 (char 126)\n",
      "Expecting value: line 5 column 11 (char 51)\n",
      "Expecting value: line 7 column 19 (char 113)\n",
      "Expecting value: line 7 column 19 (char 112)\n",
      "Expecting value: line 7 column 19 (char 126)\n",
      "Expecting value: line 7 column 25 (char 151)\n",
      "Expecting value: line 8 column 10 (char 167)\n",
      "Expecting value: line 7 column 19 (char 125)\n",
      "Expecting value: line 15 column 25 (char 323)\n",
      "Expecting value: line 15 column 19 (char 306)\n",
      "Expecting value: line 7 column 25 (char 136)\n",
      "the JSON object must be str, bytes or bytearray, not float\n",
      "Expecting value: line 7 column 19 (char 122)\n",
      "Expecting value: line 7 column 19 (char 122)\n",
      "Expecting value: line 7 column 19 (char 123)\n",
      "Expecting value: line 7 column 19 (char 128)\n",
      "Expecting value: line 7 column 19 (char 125)\n",
      "Expecting value: line 15 column 19 (char 275)\n",
      "Expecting value: line 7 column 19 (char 122)\n",
      "Expecting value: line 7 column 19 (char 118)\n",
      "Expecting value: line 7 column 19 (char 127)\n",
      "Expecting value: line 7 column 19 (char 126)\n",
      "Expecting value: line 7 column 19 (char 113)\n",
      "Expecting value: line 9 column 11 (char 165)\n",
      "Expecting value: line 9 column 11 (char 159)\n",
      "Expecting value: line 9 column 17 (char 196)\n",
      "Expecting value: line 9 column 11 (char 161)\n",
      "Expecting value: line 9 column 11 (char 165)\n",
      "Expecting value: line 9 column 11 (char 160)\n",
      "Expecting value: line 9 column 11 (char 160)\n",
      "Expecting value: line 7 column 19 (char 126)\n",
      "Expecting value: line 7 column 25 (char 155)\n",
      "Expecting value: line 7 column 19 (char 129)\n",
      "Expecting value: line 7 column 19 (char 144)\n",
      "Expecting value: line 7 column 19 (char 125)\n",
      "Expecting value: line 7 column 19 (char 123)\n",
      "Expecting value: line 15 column 19 (char 283)\n",
      "Expecting value: line 7 column 19 (char 134)\n",
      "Expecting value: line 7 column 19 (char 120)\n",
      "Expecting value: line 7 column 19 (char 125)\n",
      "Expecting value: line 7 column 19 (char 126)\n",
      "Expecting value: line 7 column 19 (char 121)\n",
      "Expecting value: line 7 column 19 (char 132)\n",
      "Expecting value: line 7 column 19 (char 126)\n",
      "Expecting value: line 7 column 19 (char 127)\n",
      "Expecting value: line 7 column 19 (char 125)\n",
      "Expecting value: line 7 column 19 (char 123)\n",
      "Expecting value: line 7 column 19 (char 124)\n",
      "Expecting value: line 7 column 19 (char 130)\n",
      "Expecting value: line 7 column 19 (char 146)\n",
      "Expecting value: line 7 column 19 (char 126)\n",
      "Expecting value: line 7 column 19 (char 127)\n",
      "Expecting value: line 7 column 19 (char 128)\n",
      "Expecting value: line 7 column 19 (char 133)\n",
      "Expecting value: line 15 column 19 (char 279)\n",
      "Expecting value: line 7 column 19 (char 131)\n",
      "Expecting value: line 7 column 19 (char 132)\n",
      "Expecting value: line 6 column 23 (char 137)\n",
      "Expecting value: line 7 column 19 (char 123)\n",
      "Expecting value: line 7 column 19 (char 119)\n",
      "Expecting value: line 15 column 19 (char 306)\n",
      "Expecting value: line 7 column 19 (char 123)\n",
      "Expecting value: line 15 column 19 (char 280)\n",
      "Expecting value: line 7 column 19 (char 130)\n",
      "Expecting value: line 7 column 19 (char 123)\n",
      "Expecting value: line 7 column 19 (char 127)\n",
      "Expecting value: line 7 column 19 (char 132)\n",
      "Expecting value: line 6 column 20 (char 90)\n",
      "Expecting value: line 7 column 19 (char 116)\n",
      "Expecting value: line 7 column 19 (char 117)\n",
      "Expecting value: line 15 column 19 (char 272)\n",
      "Expecting value: line 15 column 25 (char 338)\n",
      "Expecting value: line 7 column 19 (char 118)\n",
      "Expecting value: line 15 column 19 (char 290)\n",
      "Expecting value: line 7 column 19 (char 127)\n",
      "Expecting value: line 7 column 19 (char 124)\n",
      "Expecting value: line 7 column 19 (char 126)\n",
      "Expecting value: line 6 column 20 (char 96)\n",
      "Expecting value: line 7 column 25 (char 152)\n",
      "Expecting value: line 7 column 19 (char 126)\n",
      "Expecting value: line 7 column 19 (char 128)\n",
      "Expecting property name enclosed in double quotes: line 1 column 2 (char 1)\n",
      "Expecting value: line 7 column 19 (char 128)\n",
      "Expecting value: line 7 column 19 (char 123)\n",
      "Expecting property name enclosed in double quotes: line 1 column 2 (char 1)\n"
     ]
    }
   ],
   "source": [
    "# Find the average age of apprentices\n",
    "info_list = []\n",
    "\n",
    "for index, row in df.iterrows():\n",
    "    try:\n",
    "        output_dict = json.loads(row[\"output_json\"])\n",
    "        results_list = output_dict[\"results\"]\n",
    "        for result in results_list:\n",
    "            info_list.append(result)\n",
    "    except Exception as e:\n",
    "        print(e)"
   ]
  },
  {
   "cell_type": "code",
   "execution_count": 63,
   "metadata": {},
   "outputs": [
    {
     "data": {
      "text/plain": [
       "{14: 69,\n",
       " 9: 124,\n",
       " 7: 116,\n",
       " 20: 1,\n",
       " 18: 13,\n",
       " 8: 124,\n",
       " 5: 67,\n",
       " 10: 145,\n",
       " 3: 30,\n",
       " 6: 98,\n",
       " 12: 147,\n",
       " 13: 123,\n",
       " 2: 16,\n",
       " 4: 39,\n",
       " 11: 153,\n",
       " 15: 55,\n",
       " 17: 18,\n",
       " 16: 27,\n",
       " 19: 2,\n",
       " 0: 1,\n",
       " 1: 4,\n",
       " 21: 3}"
      ]
     },
     "execution_count": 63,
     "metadata": {},
     "output_type": "execute_result"
    }
   ],
   "source": [
    "age_counts = {}\n",
    "\n",
    "for info in info_list:\n",
    "    age = info.get(\"apprentice_age\")\n",
    "    if isinstance(age, int):\n",
    "        if age < 25:\n",
    "            if age in age_counts:\n",
    "                age_counts[age] += 1\n",
    "            else:\n",
    "                age_counts[age] = 1\n",
    "\n",
    "age_counts"
   ]
  },
  {
   "cell_type": "code",
   "execution_count": 64,
   "metadata": {},
   "outputs": [
    {
     "data": {
      "image/png": "[encoded data removed]",
      "text/plain": [
       "<Figure size 640x480 with 1 Axes>"
      ]
     },
     "metadata": {},
     "output_type": "display_data"
    }
   ],
   "source": [
    "import matplotlib.pyplot as plt\n",
    "\n",
    "# Dictionary mapping values to counts\n",
    "data = age_counts\n",
    "\n",
    "# Extract values and counts from the dictionary\n",
    "values = list(data.keys())\n",
    "counts = list(data.values())\n",
    "\n",
    "# Create a bar plot\n",
    "plt.bar(values, counts)\n",
    "\n",
    "# Add labels and title\n",
    "plt.xlabel('Values')\n",
    "plt.ylabel('Counts')\n",
    "plt.title('Histogram of Value Counts')\n",
    "\n",
    "# Display the plot\n",
    "plt.show()"
   ]
  }
 ],
 "metadata": {
  "kernelspec": {
   "display_name": "Python 3",
   "language": "python",
   "name": "python3"
  },
  "language_info": {
   "codemirror_mode": {
    "name": "ipython",
    "version": 3
   },
   "file_extension": ".py",
   "mimetype": "text/x-python",
   "name": "python",
   "nbconvert_exporter": "python",
   "pygments_lexer": "ipython3",
   "version": "3.12.0"
  }
 },
 "nbformat": 4,
 "nbformat_minor": 2
}
